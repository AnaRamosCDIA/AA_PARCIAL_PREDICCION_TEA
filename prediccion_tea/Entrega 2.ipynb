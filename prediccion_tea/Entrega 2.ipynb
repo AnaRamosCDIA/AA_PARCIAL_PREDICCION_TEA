{
 "cells": [
  {
   "cell_type": "markdown",
   "id": "ec23ae48-2068-455d-87cf-40e33470a92a",
   "metadata": {},
   "source": [
    "# 📊 Predicción del Trastorno del Espectro Autista en Niños mediante Aprendizaje Automático  \n",
    "\n",
    "## 📖 Objetivo del Proyecto  \n",
    "Este proyecto busca desarrollar **modelos de aprendizaje automático** que permitan **predecir indicadores del Trastorno del Espectro Autista (TEA) en niños**, con el objetivo de facilitar el diagnóstico en contextos donde el acceso a profesionales especializados es limitado, como en Tierra del Fuego. \n",
    "\n",
    "## 📌 Fuente de Datos  \n",
    "Thabtah, F. (2017). Autistic Spectrum Disorder Screening Data for Children  \n",
    "[Dataset]. UCI Machine Learning Repository. https://doi.org/10.24432/C5659W \n",
    "\n",
    "## 🔍 Descripción del Dataset  \n",
    "El conjunto de datos contiene **292 registros** con **21 atributos**, incluyendo variables sociodemográficas y respuestas a los ítems del **AQ-10-Child**, utilizada para evaluar rasgos conductuales asociados al TEA.  \n",
    "\n",
    "En este proyecto, analizaremos la relación entre las respuestas a las preguntas del **AQ-10-Child****A1 - A10** (**10 características conductuales**) y otras características individuales para entrenar modelos de predicción que puedan aplicarse en entornos de salud pública.  \n",
    "\n",
    "# 🔍 Preguntas AQ-10-Child (A1 - A10)  \n",
    "Estas preguntas incluyen aspectos como la capacidad de seguir conversaciones, interpretar emociones en rostros, facilidad para hacer amigos y patrones de atención a detalles. Las mismas se encuentra en el siguiente link: https://www.autismresearchcentre.com/tests/autism-spectrum-quotient-10-items-aq-10-child/\n",
    "A saber:\n",
    "\n",
    "\n",
    "1️⃣ **¿El niño suele notar pequeños sonidos que otros no perciben?**  \n",
    "2️⃣ **¿Se enfoca más en la imagen completa en lugar de los pequeños detalles?**  \n",
    "3️⃣ **¿Puede seguir conversaciones en un grupo social?**  \n",
    "4️⃣ **¿Le resulta fácil cambiar entre distintas actividades?**  \n",
    "5️⃣ **¿Tiene dificultades para mantener una conversación con sus compañeros?**  \n",
    "6️⃣ **¿Es bueno en conversaciones sociales?**  \n",
    "7️⃣ **¿Le cuesta interpretar intenciones, sentimientos o características en cuentos?**  \n",
    "8️⃣ **¿Utilizaba el juego para interactuar con otros niños en preescolar?**  \n",
    "9️⃣ **¿Le resulta fácil interpretar emociones en los rostros de otras personas?**  \n",
    "🔟 **¿Le cuesta hacer nuevos amigos?**  \n",
    "\n",
    "Cada respuesta se registra en el dataset como un valor binario (**0 = No, 1 = Sí**), lo que permite analizar patrones de comportamiento y su relación con el diagnóstico de TEA.  \n",
    "\n",
    "## 🛠 Preparación del Dataset  \n",
    "Para garantizar que el conjunto de datos sea **adecuado para su aplicación en Tierra del Fuego**, se llevarán a cabo los siguientes pasos:  \n",
    "- **Limpieza** de datos: eliminación de valores nulos y verificación de inconsistencias.  \n",
    "- **Análisis exploratorio** para entender la distribución de las variables clave.  \n",
    "- **Selección de atributos** relevantes para la predicción del TEA.  \n",
    "- **Transformaciones** necesarias para la implementación de los modelos. \n",
    "\n",
    "## 🏆 Modelos de Predicción  \n",
    "Para evaluar la capacidad de clasificación del TEA, se entrenarán los siguientes modelos:  \n",
    "- **Regresión Logística** (modelo base, interpretable)  \n",
    "- **Árbol de Decisión** (visualizable)  \n",
    "- **Random Forest** (modelo más robusto)  \n",
    "\n",
    "Las métricas utilizadas para evaluar el desempeño incluyen **Accuracy, Precision, Recall, F1-score** y **matriz de confusión**, además de aplicar **validación cruzada** para medir la estabilidad del modelo.  \n",
    "\n",
    "---\n"
   ]
  },
  {
   "cell_type": "markdown",
   "id": "5a7daa58-f245-4437-b5eb-34fd402ba485",
   "metadata": {},
   "source": [
    "# Predicción de TEA en la infancia\n",
    "\n",
    "Este proyecto tiene la finalidad de predecir si una persona tiene autismo o no, basándote en una serie de características. Sobre las preguntas 1 a 10, corresponden a los ítems del AQ-10-Child, una escala utilizada para evaluar rasgos de comportamiento asociados al TEA en niños. Estas preguntas incluyen aspectos como la capacidad de seguir conversaciones, interpretar emociones en rostros, facilidad para hacer amigos y patrones de atención a detalles."
   ]
  },
  {
   "cell_type": "markdown",
   "id": "ab2d5fca-8d2f-4139-be3a-a1f5a49183e2",
   "metadata": {},
   "source": [
    "### Importar Librerías para carga de datos"
   ]
  },
  {
   "cell_type": "code",
   "execution_count": 2,
   "id": "bb7bd96b-73c8-4559-8c01-508a71bc146d",
   "metadata": {},
   "outputs": [],
   "source": [
    "import pandas as pd\n",
    "import numpy as np\n",
    "import matplotlib.pyplot as plt"
   ]
  },
  {
   "cell_type": "markdown",
   "id": "ddbea7c5-b24a-443a-bc1e-fcb23f34859e",
   "metadata": {},
   "source": [
    "### Carga del dataset"
   ]
  },
  {
   "cell_type": "markdown",
   "id": "e77e4013-1c14-4376-852b-26da9b525bd7",
   "metadata": {},
   "source": [
    "Fuente de datos\n",
    "Thabtah, F. (2017). Autistic Spectrum Disorder Screening Data for Children  \n",
    "[Dataset]. UCI Machine Learning Repository. https://doi.org/10.24432/C5659W\n"
   ]
  },
  {
   "cell_type": "code",
   "execution_count": 4,
   "id": "0bcc1ed0-79b1-473f-b7c9-0de2e24f5b44",
   "metadata": {},
   "outputs": [],
   "source": [
    "url = 'https://archive.ics.uci.edu/static/public/419/data.csv'\n",
    "df = pd.read_csv(url)"
   ]
  },
  {
   "cell_type": "markdown",
   "id": "e0b8c552-4cb8-41c7-a453-fbe224a55165",
   "metadata": {},
   "source": [
    "### Verificar la estructura del dataset:"
   ]
  },
  {
   "cell_type": "code",
   "execution_count": null,
   "id": "81625429-8bb3-45b5-afb2-4307b24c283d",
   "metadata": {},
   "outputs": [],
   "source": [
    "print(df.head())  # Verificar las primeras filas del dataset\n",
    "print(df.info())  # Verificar la estructura del dataset (tipos de datos, número de filas, etc.)\n",
    "print(df.describe())  # Verificar las estadísticas descriptivas del dataset (media, mediana, etc.)"
   ]
  },
  {
   "cell_type": "markdown",
   "id": "d69f8bd9-5649-4afe-984b-855429ec29b9",
   "metadata": {},
   "source": [
    "Según la documentación incorporada al dataset, en este conjunto de datos se registran diez características conductuales (AQ-10-Child) más diez características individuales que han demostrado ser eficaces para diferenciar casos de TEA de controles dentro de la ciencia del comportamiento.\n",
    "Las columnas A1_Score a A10_Score se corresponden a los ítems del AQ-10-Child, una escala utilizada para evaluar rasgos de comportamiento asociados al TEA en niños. Estas preguntas incluyen aspectos como la capacidad de seguir conversaciones, interpretar emociones en rostros, facilidad para hacer amigos y patrones de atención a detalles. Las mismas se encuentra en el siguiente link: https://www.autismresearchcentre.com/tests/autism-spectrum-quotient-10-items-aq-10-child/"
   ]
  },
  {
   "cell_type": "markdown",
   "id": "00543928-4463-4447-bbc0-51450eb6db29",
   "metadata": {},
   "source": [
    "Vemos que la variable objetivo es: \"class\""
   ]
  },
  {
   "cell_type": "markdown",
   "id": "46786186-be82-4cbe-9642-6ad30bfd3d13",
   "metadata": {},
   "source": [
    "## 🛠 Preparación del Dataset  \n",
    "Para garantizar que el conjunto de datos sea **adecuado para su aplicación en Tierra del Fuego**, se llevarán a cabo los siguientes pasos:  \n",
    "- **Limpieza** de datos: eliminación de valores nulos y verificación de inconsistencias.  \n",
    "- **Análisis exploratorio** para entender la distribución de las variables clave.  \n",
    "- **Selección de atributos** relevantes para la predicción del TEA.  \n",
    "- **Transformaciones** necesarias para la implementación de los modelos. "
   ]
  },
  {
   "cell_type": "markdown",
   "id": "1f91d7b7-f0c7-467a-94f7-f56c3a0f162a",
   "metadata": {},
   "source": [
    "EDA"
   ]
  },
  {
   "cell_type": "markdown",
   "id": "cabe1a72-9009-40a2-b731-b5c29520ae88",
   "metadata": {},
   "source": [
    "Verificar la distribución de la variable objetivo: Utiliza la función para ver la distribución de la variable objetivo (autismo/no autismo). Esto te ayudará a entender si hay un desequilibrio en la distribución de la variable objetivo.value_counts()"
   ]
  },
  {
   "cell_type": "code",
   "execution_count": null,
   "id": "c00bcd8b-d926-43dc-969c-74b7cf30e721",
   "metadata": {},
   "outputs": [],
   "source": [
    "print(df['class'].value_counts())"
   ]
  },
  {
   "cell_type": "code",
   "execution_count": null,
   "id": "38967d94-21e8-4261-ba31-b3d34ba88957",
   "metadata": {},
   "outputs": [],
   "source": [
    "# Eliminar variables no relevantes\n",
    "df = df.drop(['country_of_res', 'ethnicity', 'used_app_before', 'result', 'age_desc', 'relation'], axis=1)"
   ]
  },
  {
   "cell_type": "code",
   "execution_count": null,
   "id": "1f7131a3-1933-416e-9db6-ed5d11444ae6",
   "metadata": {},
   "outputs": [],
   "source": [
    "# Verificar la presencia de valores nulos\n",
    "print(df.isnull().sum())"
   ]
  },
  {
   "cell_type": "markdown",
   "id": "fce71081-5935-4679-bf22-de6c5d7b4e62",
   "metadata": {},
   "source": [
    "Ahora que has eliminado las variables no relevantes, puedes proceder con el análisis exploratorio de datos (EDA) para entender mejor la distribución de las variables y la relación entre ellas."
   ]
  },
  {
   "cell_type": "code",
   "execution_count": null,
   "id": "c80ebe46-56f5-4f45-9988-2ef2e0100c12",
   "metadata": {},
   "outputs": [],
   "source": [
    "# Reemplazar valores faltantes de age con la moda\n",
    "df['age'] = df['age'].fillna(df['age'].mode()[0])"
   ]
  },
  {
   "cell_type": "code",
   "execution_count": null,
   "id": "69966c0b-e94b-4d84-9fba-5f8c89f786e7",
   "metadata": {},
   "outputs": [],
   "source": [
    "# Verificar que los valores faltantes hayan sido reemplazados correctamente\n",
    "print(df['age'].isnull().sum())"
   ]
  },
  {
   "cell_type": "code",
   "execution_count": null,
   "id": "9edfe6bd-0626-4ad7-bd70-3cd2b6f2e35e",
   "metadata": {},
   "outputs": [],
   "source": [
    "# Verificar la estadística de la columna age después de reemplazar los valores faltantes\n",
    "print(df['age'].describe())"
   ]
  },
  {
   "cell_type": "code",
   "execution_count": null,
   "id": "aa7c05c0-0b34-461a-9e17-3ffb69370095",
   "metadata": {},
   "outputs": [],
   "source": []
  }
 ],
 "metadata": {
  "kernelspec": {
   "display_name": "Python 3 (ipykernel)",
   "language": "python",
   "name": "python3"
  },
  "language_info": {
   "codemirror_mode": {
    "name": "ipython",
    "version": 3
   },
   "file_extension": ".py",
   "mimetype": "text/x-python",
   "name": "python",
   "nbconvert_exporter": "python",
   "pygments_lexer": "ipython3",
   "version": "3.12.7"
  }
 },
 "nbformat": 4,
 "nbformat_minor": 5
}
